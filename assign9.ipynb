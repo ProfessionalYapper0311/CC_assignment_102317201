{
 "cells": [
  {
   "cell_type": "code",
   "execution_count": 5,
   "id": "bcd48e21",
   "metadata": {},
   "outputs": [],
   "source": [
    "import re\n",
    "import nltk\n",
    "import string\n",
    "from nltk.tokenize import word_tokenize, sent_tokenize\n",
    "from nltk.corpus import stopwords\n",
    "from nltk.stem import PorterStemmer, LancasterStemmer,WordNetLemmatizer\n",
    "from collections import Counter\n",
    "from nltk import FreqDist\n",
    "import matplotlib.pyplot as plt"
   ]
  },
  {
   "cell_type": "code",
   "execution_count": 2,
   "id": "02ef0087",
   "metadata": {},
   "outputs": [],
   "source": [
    "text = \"\"\"Artificial Intelligence has revolutionized the way we interact with technology. Neural networks and deep learning algorithms have enabled machines to recognize patterns in vast amounts of data. Technologies like ChatGPT demonstrate how far natural language processing has come in recent years. The integration of AI into everyday devices has made our lives more convenient and efficient. However, this rapid advancement also raises important ethical questions about privacy and autonomy.\"\"\""
   ]
  },
  {
   "cell_type": "code",
   "execution_count": null,
   "id": "0bc6a828",
   "metadata": {},
   "outputs": [
    {
     "name": "stdout",
     "output_type": "stream",
     "text": [
      "Cleaned Text: artificial intelligence has revolutionized the way we interact with technology neural networks and deep learning algorithms have enabled machines to recognize patterns in vast amounts of data technologies like chatgpt demonstrate how far natural language processing has come in recent years the integration of ai into everyday devices has made our lives more convenient and efficient however this rapid advancement also raises important ethical questions about privacy and autonomy\n"
     ]
    }
   ],
   "source": [
    "# Tokenization- removed punc and made it lower case\n",
    "text_lower = text.lower()\n",
    "text_clean = text_lower.translate(str.maketrans('', '', string.punctuation))\n",
    "print(\"Cleaned Text:\", text_clean)"
   ]
  },
  {
   "cell_type": "code",
   "execution_count": null,
   "id": "1431f240",
   "metadata": {},
   "outputs": [
    {
     "name": "stdout",
     "output_type": "stream",
     "text": [
      "Tokenized Words: ['Artificial', 'Intelligence', 'has', 'revolutionized', 'the', 'way', 'we', 'interact', 'with', 'technology', '.', 'Neural', 'networks', 'and', 'deep', 'learning', 'algorithms', 'have', 'enabled', 'machines', 'to', 'recognize', 'patterns', 'in', 'vast', 'amounts', 'of', 'data', '.', 'Technologies', 'like', 'ChatGPT', 'demonstrate', 'how', 'far', 'natural', 'language', 'processing', 'has', 'come', 'in', 'recent', 'years', '.', 'The', 'integration', 'of', 'AI', 'into', 'everyday', 'devices', 'has', 'made', 'our', 'lives', 'more', 'convenient', 'and', 'efficient', '.', 'However', ',', 'this', 'rapid', 'advancement', 'also', 'raises', 'important', 'ethical', 'questions', 'about', 'privacy', 'and', 'autonomy', '.']\n",
      "\n",
      "\n",
      "Tokenized Sentences: ['Artificial Intelligence has revolutionized the way we interact with technology.', 'Neural networks and deep learning algorithms have enabled machines to recognize patterns in vast amounts of data.', 'Technologies like ChatGPT demonstrate how far natural language processing has come in recent years.', 'The integration of AI into everyday devices has made our lives more convenient and efficient.', 'However, this rapid advancement also raises important ethical questions about privacy and autonomy.']\n"
     ]
    }
   ],
   "source": [
    "# Tokenization- converted to words and sentences\n",
    "words = word_tokenize(text)\n",
    "sent = sent_tokenize(text)\n",
    "print(\"Tokenized Words:\", words)\n",
    "print(\"\\n\")\n",
    "print(\"Tokenized Sentences:\", sent)"
   ]
  },
  {
   "cell_type": "code",
   "execution_count": 15,
   "id": "6b91eb41",
   "metadata": {},
   "outputs": [
    {
     "name": "stdout",
     "output_type": "stream",
     "text": [
      "Filtered Worlds:  ['has', 'the', 'we', 'with', 'and', 'have', 'to', 'in', 'of', 'how', 'has', 'in', 'of', 'into', 'has', 'our', 'more', 'and', 'this', 'about', 'and']\n"
     ]
    }
   ],
   "source": [
    "# removing stop words\n",
    "stop_words = set(stopwords.words('english'))\n",
    "filtered_words = [word for word in words if word in stop_words]\n",
    "print(\"Filtered Worlds: \", filtered_words)"
   ]
  },
  {
   "cell_type": "code",
   "execution_count": 17,
   "id": "40952909",
   "metadata": {},
   "outputs": [
    {
     "data": {
      "image/png": "[encoded data removed]",
      "text/plain": [
       "<Figure size 640x480 with 1 Axes>"
      ]
     },
     "metadata": {},
     "output_type": "display_data"
    }
   ],
   "source": [
    "#word frequency distribution\n",
    "fd = FreqDist(filtered_words)\n",
    "fd.plot(30, title = \"Top 30 common words\")\n",
    "plt.show()"
   ]
  },
  {
   "cell_type": "code",
   "execution_count": null,
   "id": "7fb9650f",
   "metadata": {},
   "outputs": [],
   "source": [
    "#stemming\n",
    "porter = PorterStemmer()\n",
    "lancaster = LancasterStemmer()"
   ]
  },
  {
   "cell_type": "code",
   "execution_count": null,
   "id": "2f442d02",
   "metadata": {},
   "outputs": [
    {
     "name": "stdout",
     "output_type": "stream",
     "text": [
      "Porter Stems:  ['ha', 'the', 'we', 'with', 'and', 'have', 'to', 'in', 'of', 'how', 'ha', 'in', 'of', 'into', 'ha', 'our', 'more', 'and', 'thi', 'about', 'and']\n",
      "Lancaster Stems:  ['has', 'the', 'we', 'with', 'and', 'hav', 'to', 'in', 'of', 'how', 'has', 'in', 'of', 'into', 'has', 'our', 'mor', 'and', 'thi', 'about', 'and']\n"
     ]
    }
   ],
   "source": [
    "porter_stems = [porter.stem(word) for word in filtered_words]\n",
    "lancaster_stems = [lancaster.stem(word) for word in filtered_words]"
   ]
  },
  {
   "cell_type": "code",
   "execution_count": 24,
   "id": "66a8a923",
   "metadata": {},
   "outputs": [
    {
     "name": "stdout",
     "output_type": "stream",
     "text": [
      "Lemmatized:  ['ha', 'the', 'we', 'with', 'and', 'have', 'to', 'in', 'of', 'how', 'ha', 'in', 'of', 'into', 'ha', 'our', 'more', 'and', 'this', 'about', 'and']\n"
     ]
    }
   ],
   "source": [
    "#lemmatization\n",
    "lemma = WordNetLemmatizer()\n",
    "lemmatized = [lemma.lemmatize(word) for word in filtered_words]\n",
    "print(\"Lemmatized: \", lemmatized)"
   ]
  },
  {
   "cell_type": "code",
   "execution_count": 26,
   "id": "33595e2f",
   "metadata": {},
   "outputs": [
    {
     "name": "stdout",
     "output_type": "stream",
     "text": [
      "Original Words: Artificial Intelligence has revolutionized the way we interact with technology. Neural networks and deep learning algorithms have enabled machines to recognize patterns in vast amounts of data. Technologies like ChatGPT demonstrate how far natural language processing has come in recent years. The integration of AI into everyday devices has made our lives more convenient and efficient. However, this rapid advancement also raises important ethical questions about privacy and autonomy.\n",
      "\n",
      "\n",
      "Filtered Words: ['has', 'the', 'we', 'with', 'and', 'have', 'to', 'in', 'of', 'how', 'has', 'in', 'of', 'into', 'has', 'our', 'more', 'and', 'this', 'about', 'and']\n",
      "\n",
      "\n",
      "Porter Stems:  ['ha', 'the', 'we', 'with', 'and', 'have', 'to', 'in', 'of', 'how', 'ha', 'in', 'of', 'into', 'ha', 'our', 'more', 'and', 'thi', 'about', 'and']\n",
      "\n",
      "\n",
      "Lancaster Stems:  ['has', 'the', 'we', 'with', 'and', 'hav', 'to', 'in', 'of', 'how', 'has', 'in', 'of', 'into', 'has', 'our', 'mor', 'and', 'thi', 'about', 'and']\n",
      "\n",
      "\n",
      "Lemmatized Words: ['ha', 'the', 'we', 'with', 'and', 'have', 'to', 'in', 'of', 'how', 'ha', 'in', 'of', 'into', 'ha', 'our', 'more', 'and', 'this', 'about', 'and']\n",
      "\n",
      "\n"
     ]
    }
   ],
   "source": [
    "print(\"Original Words:\", text)\n",
    "print(\"\\n\")\n",
    "print(\"Filtered Words:\", filtered_words)\n",
    "print(\"\\n\")\n",
    "print(\"Porter Stems: \", porter_stems)\n",
    "print(\"\\n\")\n",
    "print(\"Lancaster Stems: \", lancaster_stems)\n",
    "print(\"\\n\")\n",
    "print(\"Lemmatized Words:\", lemmatized)\n",
    "print(\"\\n\")"
   ]
  },
  {
   "cell_type": "code",
   "execution_count": 27,
   "id": "56e9daf5",
   "metadata": {},
   "outputs": [
    {
     "name": "stdout",
     "output_type": "stream",
     "text": [
      "Original text for regex:\n",
      "Artificial Intelligence has revolutionized the way we interact with technology. Neural networks and deep learning algorithms have enabled machines to recognize patterns in vast amounts of data. Technologies like ChatGPT demonstrate how far natural language processing has come in recent years. The integration of AI into everyday devices has made our lives more convenient and efficient. However, this rapid advancement also raises important ethical questions about privacy and autonomy.\n"
     ]
    }
   ],
   "source": [
    "print(\"Original text for regex:\")\n",
    "print(text)"
   ]
  },
  {
   "cell_type": "code",
   "execution_count": 28,
   "id": "65bb893a",
   "metadata": {},
   "outputs": [],
   "source": [
    "long_words = re.findall(r'\\b[a-zA-Z]{6,}\\b', text)\n",
    "numbers = re.findall(r'\\b\\d+\\b', text)\n",
    "capitalized_words = re.findall(r'\\b[A-Z][a-z]*\\b', text)"
   ]
  },
  {
   "cell_type": "code",
   "execution_count": 29,
   "id": "246c6d82",
   "metadata": {},
   "outputs": [
    {
     "name": "stdout",
     "output_type": "stream",
     "text": [
      "All words with more than 5 letters:  ['Artificial', 'Intelligence', 'revolutionized', 'interact', 'technology', 'Neural', 'networks', 'learning', 'algorithms', 'enabled', 'machines', 'recognize', 'patterns', 'amounts', 'Technologies', 'ChatGPT', 'demonstrate', 'natural', 'language', 'processing', 'recent', 'integration', 'everyday', 'devices', 'convenient', 'efficient', 'However', 'advancement', 'raises', 'important', 'ethical', 'questions', 'privacy', 'autonomy']\n",
      "\n",
      "\n",
      "All numbers:  []\n",
      "\n",
      "\n",
      "All capitalized words:  ['Artificial', 'Intelligence', 'Neural', 'Technologies', 'The', 'However']\n",
      "\n",
      "\n"
     ]
    }
   ],
   "source": [
    "print('All words with more than 5 letters: ', long_words)\n",
    "print(\"\\n\")\n",
    "print('All numbers: ', numbers)\n",
    "print(\"\\n\")\n",
    "print('All capitalized words: ', capitalized_words)\n",
    "print(\"\\n\")"
   ]
  },
  {
   "cell_type": "code",
   "execution_count": null,
   "id": "66c72150",
   "metadata": {},
   "outputs": [],
   "source": [
    "clean_words = re.findall(r'\\b[a-zA-Z]+\\b', text)\n",
    "vowel_words = [word for word in clean_words if word.lower()[0] in 'aeiou']"
   ]
  },
  {
   "cell_type": "code",
   "execution_count": 32,
   "id": "d9aa71c5",
   "metadata": {},
   "outputs": [
    {
     "name": "stdout",
     "output_type": "stream",
     "text": [
      "Words containing only alphabets ['Artificial', 'Intelligence', 'has', 'revolutionized', 'the', 'way', 'we', 'interact', 'with', 'technology', 'Neural', 'networks', 'and', 'deep', 'learning', 'algorithms', 'have', 'enabled', 'machines', 'to', 'recognize', 'patterns', 'in', 'vast', 'amounts', 'of', 'data', 'Technologies', 'like', 'ChatGPT', 'demonstrate', 'how', 'far', 'natural', 'language', 'processing', 'has', 'come', 'in', 'recent', 'years', 'The', 'integration', 'of', 'AI', 'into', 'everyday', 'devices', 'has', 'made', 'our', 'lives', 'more', 'convenient', 'and', 'efficient', 'However', 'this', 'rapid', 'advancement', 'also', 'raises', 'important', 'ethical', 'questions', 'about', 'privacy', 'and', 'autonomy']\n",
      "\n",
      "\n",
      "All words starting with a vowel:  ['Artificial', 'Intelligence', 'interact', 'and', 'algorithms', 'enabled', 'in', 'amounts', 'of', 'in', 'integration', 'of', 'AI', 'into', 'everyday', 'our', 'and', 'efficient', 'advancement', 'also', 'important', 'ethical', 'about', 'and', 'autonomy']\n"
     ]
    }
   ],
   "source": [
    "print('Words containing only alphabets', clean_words)\n",
    "print(\"\\n\")\n",
    "print('All words starting with a vowel: ', vowel_words)"
   ]
  },
  {
   "cell_type": "code",
   "execution_count": 37,
   "id": "66f147cc",
   "metadata": {},
   "outputs": [
    {
     "name": "stdout",
     "output_type": "stream",
     "text": [
      "Custom Tokenized Words:  ['Artificial', 'Intelligence', 'has', 'revolutionized', 'the', 'way', 'we', 'interact', 'with', 'technology', 'Neural', 'networks', 'and', 'deep', 'learning', 'algorithms', 'have', 'enabled', 'machines', 'to', 'recognize', 'patterns', 'in', 'vast', 'amounts', 'of', 'data', 'Technologies', 'like', 'ChatGPT', 'demonstrate', 'how', 'far', 'natural', 'language', 'processing', 'has', 'come', 'in', 'recent', 'years', 'The', 'integration', 'of', 'AI', 'into', 'everyday', 'devices', 'has', 'made', 'our', 'lives', 'more', 'convenient', 'and', 'efficient', 'However', 'this', 'rapid', 'advancement', 'also', 'raises', 'important', 'ethical', 'questions', 'about', 'privacy', 'and', 'autonomy']\n"
     ]
    }
   ],
   "source": [
    "def custom_tokenizer(text):\n",
    "    text = re.sub(r\"(\\w+[-']\\w+)\", r\" \\1 \", text)\n",
    "    text = re.sub(r\"\\b\\d+\\.\\d+\\b\", r\" \\g<0> \", text)\n",
    "    text = re.sub(r\"[^\\w\\s]\", \"\", text)\n",
    "    tokens = word_tokenize(text)\n",
    "    return tokens\n",
    "\n",
    "custom_tokens = custom_tokenizer(text)\n",
    "print(\"Custom Tokenized Words: \", custom_tokens)"
   ]
  },
  {
   "cell_type": "code",
   "execution_count": null,
   "id": "7d6f4dd5",
   "metadata": {},
   "outputs": [
    {
     "name": "stdout",
     "output_type": "stream",
     "text": [
      "Cleaned Text with Regex:  Artificial Intelligence has revolutionized the way we interact with technology. Neural networks and deep learning algorithms have enabled machines to recognize patterns in vast amounts of data. Technologies like ChatGPT demonstrate how far natural language processing has come in recent years. The integration of AI into everyday devices has made our lives more convenient and efficient. However, this rapid advancement also raises important ethical questions about privacy and autonomy.\n"
     ]
    }
   ],
   "source": [
    "def clean_text(text):\n",
    "    text = re.sub(r'\\b[A-Za-z0-9._%+-]+@[A-Za-z0-9.-]+\\.[A-Z|a-z]{2,}\\b', '<EMAIL>', text)\n",
    "    text = re.sub(r'https?://\\S+|www\\.\\S+', '<URL>', text)\n",
    "    text = re.sub(r'\\b(\\+?\\d{1,3}[-.\\s]?\\d{3,4}[-.\\s]?\\d{4,})\\b', '<PHONE>', text)\n",
    "    return text\n",
    "\n",
    "cleaned_text = clean_text(text)\n",
    "print(\"Cleaned Text with Regex: \", cleaned_text)"
   ]
  }
 ],
 "metadata": {
  "kernelspec": {
   "display_name": "Python 3",
   "language": "python",
   "name": "python3"
  },
  "language_info": {
   "codemirror_mode": {
    "name": "ipython",
    "version": 3
   },
   "file_extension": ".py",
   "mimetype": "text/x-python",
   "name": "python",
   "nbconvert_exporter": "python",
   "pygments_lexer": "ipython3",
   "version": "3.9.10"
  }
 },
 "nbformat": 4,
 "nbformat_minor": 5
}
